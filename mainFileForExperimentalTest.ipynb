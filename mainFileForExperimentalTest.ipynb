{
 "cells": [
  {
   "cell_type": "code",
   "execution_count": 1,
   "metadata": {},
   "outputs": [],
   "source": [
    "import pandas as pd\n",
    "import numpy as np\n",
    "from sklearn.preprocessing import StandardScaler\n",
    "from sklearn.cluster import AgglomerativeClustering\n",
    "from sklearn.metrics import silhouette_score"
   ]
  },
  {
   "cell_type": "code",
   "execution_count": 2,
   "metadata": {},
   "outputs": [],
   "source": [
    "# Read data\n",
    "def load_data(file_path):\n",
    "    return pd.read_csv(file_path)\n"
   ]
  },
  {
   "cell_type": "code",
   "execution_count": 3,
   "metadata": {},
   "outputs": [],
   "source": [
    "def preprocess_data(df):\n",
    "    df.dropna(inplace=True)\n",
    "    # Scale the numerical columns\n",
    "    scaler = StandardScaler()\n",
    "    numerical_columns = list(df.columns)\n",
    "    df[numerical_columns] = scaler.fit_transform(df[numerical_columns])\n",
    "    \n",
    "    return df"
   ]
  },
  {
   "cell_type": "code",
   "execution_count": 4,
   "metadata": {},
   "outputs": [],
   "source": [
    "def perform_hierarchical_clustering(df, n_clusters):\n",
    "    # Perform hierarchical clustering\n",
    "    model = AgglomerativeClustering(n_clusters=n_clusters)\n",
    "    df['cluster2'] = model.fit_predict(df)\n",
    "    \n",
    "    return df"
   ]
  },
  {
   "cell_type": "code",
   "execution_count": 5,
   "outputs": [
    {
     "data": {
      "text/plain": "   Time        V1        V2        V3        V4        V5        V6        V7  \\\n0   0.0 -1.359807 -0.072781  2.536347  1.378155 -0.338321  0.462388  0.239599   \n1   0.0  1.191857  0.266151  0.166480  0.448154  0.060018 -0.082361 -0.078803   \n2   1.0 -1.358354 -1.340163  1.773209  0.379780 -0.503198  1.800499  0.791461   \n3   1.0 -0.966272 -0.185226  1.792993 -0.863291 -0.010309  1.247203  0.237609   \n4   2.0 -1.158233  0.877737  1.548718  0.403034 -0.407193  0.095921  0.592941   \n\n         V8        V9  ...       V21       V22       V23       V24       V25  \\\n0  0.098698  0.363787  ... -0.018307  0.277838 -0.110474  0.066928  0.128539   \n1  0.085102 -0.255425  ... -0.225775 -0.638672  0.101288 -0.339846  0.167170   \n2  0.247676 -1.514654  ...  0.247998  0.771679  0.909412 -0.689281 -0.327642   \n3  0.377436 -1.387024  ... -0.108300  0.005274 -0.190321 -1.175575  0.647376   \n4 -0.270533  0.817739  ... -0.009431  0.798278 -0.137458  0.141267 -0.206010   \n\n        V26       V27       V28  Amount  Class  \n0 -0.189115  0.133558 -0.021053  149.62      0  \n1  0.125895 -0.008983  0.014724    2.69      0  \n2 -0.139097 -0.055353 -0.059752  378.66      0  \n3 -0.221929  0.062723  0.061458  123.50      0  \n4  0.502292  0.219422  0.215153   69.99      0  \n\n[5 rows x 31 columns]",
      "text/html": "<div>\n<style scoped>\n    .dataframe tbody tr th:only-of-type {\n        vertical-align: middle;\n    }\n\n    .dataframe tbody tr th {\n        vertical-align: top;\n    }\n\n    .dataframe thead th {\n        text-align: right;\n    }\n</style>\n<table border=\"1\" class=\"dataframe\">\n  <thead>\n    <tr style=\"text-align: right;\">\n      <th></th>\n      <th>Time</th>\n      <th>V1</th>\n      <th>V2</th>\n      <th>V3</th>\n      <th>V4</th>\n      <th>V5</th>\n      <th>V6</th>\n      <th>V7</th>\n      <th>V8</th>\n      <th>V9</th>\n      <th>...</th>\n      <th>V21</th>\n      <th>V22</th>\n      <th>V23</th>\n      <th>V24</th>\n      <th>V25</th>\n      <th>V26</th>\n      <th>V27</th>\n      <th>V28</th>\n      <th>Amount</th>\n      <th>Class</th>\n    </tr>\n  </thead>\n  <tbody>\n    <tr>\n      <th>0</th>\n      <td>0.0</td>\n      <td>-1.359807</td>\n      <td>-0.072781</td>\n      <td>2.536347</td>\n      <td>1.378155</td>\n      <td>-0.338321</td>\n      <td>0.462388</td>\n      <td>0.239599</td>\n      <td>0.098698</td>\n      <td>0.363787</td>\n      <td>...</td>\n      <td>-0.018307</td>\n      <td>0.277838</td>\n      <td>-0.110474</td>\n      <td>0.066928</td>\n      <td>0.128539</td>\n      <td>-0.189115</td>\n      <td>0.133558</td>\n      <td>-0.021053</td>\n      <td>149.62</td>\n      <td>0</td>\n    </tr>\n    <tr>\n      <th>1</th>\n      <td>0.0</td>\n      <td>1.191857</td>\n      <td>0.266151</td>\n      <td>0.166480</td>\n      <td>0.448154</td>\n      <td>0.060018</td>\n      <td>-0.082361</td>\n      <td>-0.078803</td>\n      <td>0.085102</td>\n      <td>-0.255425</td>\n      <td>...</td>\n      <td>-0.225775</td>\n      <td>-0.638672</td>\n      <td>0.101288</td>\n      <td>-0.339846</td>\n      <td>0.167170</td>\n      <td>0.125895</td>\n      <td>-0.008983</td>\n      <td>0.014724</td>\n      <td>2.69</td>\n      <td>0</td>\n    </tr>\n    <tr>\n      <th>2</th>\n      <td>1.0</td>\n      <td>-1.358354</td>\n      <td>-1.340163</td>\n      <td>1.773209</td>\n      <td>0.379780</td>\n      <td>-0.503198</td>\n      <td>1.800499</td>\n      <td>0.791461</td>\n      <td>0.247676</td>\n      <td>-1.514654</td>\n      <td>...</td>\n      <td>0.247998</td>\n      <td>0.771679</td>\n      <td>0.909412</td>\n      <td>-0.689281</td>\n      <td>-0.327642</td>\n      <td>-0.139097</td>\n      <td>-0.055353</td>\n      <td>-0.059752</td>\n      <td>378.66</td>\n      <td>0</td>\n    </tr>\n    <tr>\n      <th>3</th>\n      <td>1.0</td>\n      <td>-0.966272</td>\n      <td>-0.185226</td>\n      <td>1.792993</td>\n      <td>-0.863291</td>\n      <td>-0.010309</td>\n      <td>1.247203</td>\n      <td>0.237609</td>\n      <td>0.377436</td>\n      <td>-1.387024</td>\n      <td>...</td>\n      <td>-0.108300</td>\n      <td>0.005274</td>\n      <td>-0.190321</td>\n      <td>-1.175575</td>\n      <td>0.647376</td>\n      <td>-0.221929</td>\n      <td>0.062723</td>\n      <td>0.061458</td>\n      <td>123.50</td>\n      <td>0</td>\n    </tr>\n    <tr>\n      <th>4</th>\n      <td>2.0</td>\n      <td>-1.158233</td>\n      <td>0.877737</td>\n      <td>1.548718</td>\n      <td>0.403034</td>\n      <td>-0.407193</td>\n      <td>0.095921</td>\n      <td>0.592941</td>\n      <td>-0.270533</td>\n      <td>0.817739</td>\n      <td>...</td>\n      <td>-0.009431</td>\n      <td>0.798278</td>\n      <td>-0.137458</td>\n      <td>0.141267</td>\n      <td>-0.206010</td>\n      <td>0.502292</td>\n      <td>0.219422</td>\n      <td>0.215153</td>\n      <td>69.99</td>\n      <td>0</td>\n    </tr>\n  </tbody>\n</table>\n<p>5 rows × 31 columns</p>\n</div>"
     },
     "execution_count": 5,
     "metadata": {},
     "output_type": "execute_result"
    }
   ],
   "source": [
    "df = load_data(\"creditcard.csv\")\n",
    "df.head()\n"
   ],
   "metadata": {
    "collapsed": false,
    "pycharm": {
     "name": "#%%\n"
    }
   }
  },
  {
   "cell_type": "code",
   "execution_count": 6,
   "metadata": {},
   "outputs": [],
   "source": [
    "df = preprocess_data(df)"
   ]
  },
  {
   "cell_type": "code",
   "execution_count": 7,
   "metadata": {},
   "outputs": [
    {
     "data": {
      "text/plain": "       Time        V1        V2        V3        V4        V5        V6  \\\n0 -1.996583 -0.694242 -0.044075  1.672773  0.973366 -0.245117  0.347068   \n1 -1.996583  0.608496  0.161176  0.109797  0.316523  0.043483 -0.061820   \n2 -1.996562 -0.693500 -0.811578  1.169468  0.268231 -0.364572  1.351454   \n3 -1.996562 -0.493325 -0.112169  1.182516 -0.609727 -0.007469  0.936150   \n4 -1.996541 -0.591330  0.531541  1.021412  0.284655 -0.295015  0.071999   \n\n         V7        V8        V9  ...       V21       V22       V23       V24  \\\n0  0.193679  0.082637  0.331128  ... -0.024923  0.382854 -0.176911  0.110507   \n1 -0.063700  0.071253 -0.232494  ... -0.307377 -0.880077  0.162201 -0.561131   \n2  0.639776  0.207373 -1.378675  ...  0.337632  1.063358  1.456320 -1.138092   \n3  0.192071  0.316018 -1.262503  ... -0.147443  0.007267 -0.304777 -1.941027   \n4  0.479302 -0.226510  0.744326  ... -0.012839  1.100011 -0.220123  0.233250   \n\n        V25       V26       V27       V28    Amount     Class  \n0  0.246585 -0.392170  0.330892 -0.063781  0.244964 -0.041599  \n1  0.320694  0.261069 -0.022256  0.044608 -0.342475 -0.041599  \n2 -0.628537 -0.288447 -0.137137 -0.181021  1.160686 -0.041599  \n3  1.241904 -0.460217  0.155396  0.186189  0.140534 -0.041599  \n4 -0.395202  1.041611  0.543620  0.651816 -0.073403 -0.041599  \n\n[5 rows x 31 columns]",
      "text/html": "<div>\n<style scoped>\n    .dataframe tbody tr th:only-of-type {\n        vertical-align: middle;\n    }\n\n    .dataframe tbody tr th {\n        vertical-align: top;\n    }\n\n    .dataframe thead th {\n        text-align: right;\n    }\n</style>\n<table border=\"1\" class=\"dataframe\">\n  <thead>\n    <tr style=\"text-align: right;\">\n      <th></th>\n      <th>Time</th>\n      <th>V1</th>\n      <th>V2</th>\n      <th>V3</th>\n      <th>V4</th>\n      <th>V5</th>\n      <th>V6</th>\n      <th>V7</th>\n      <th>V8</th>\n      <th>V9</th>\n      <th>...</th>\n      <th>V21</th>\n      <th>V22</th>\n      <th>V23</th>\n      <th>V24</th>\n      <th>V25</th>\n      <th>V26</th>\n      <th>V27</th>\n      <th>V28</th>\n      <th>Amount</th>\n      <th>Class</th>\n    </tr>\n  </thead>\n  <tbody>\n    <tr>\n      <th>0</th>\n      <td>-1.996583</td>\n      <td>-0.694242</td>\n      <td>-0.044075</td>\n      <td>1.672773</td>\n      <td>0.973366</td>\n      <td>-0.245117</td>\n      <td>0.347068</td>\n      <td>0.193679</td>\n      <td>0.082637</td>\n      <td>0.331128</td>\n      <td>...</td>\n      <td>-0.024923</td>\n      <td>0.382854</td>\n      <td>-0.176911</td>\n      <td>0.110507</td>\n      <td>0.246585</td>\n      <td>-0.392170</td>\n      <td>0.330892</td>\n      <td>-0.063781</td>\n      <td>0.244964</td>\n      <td>-0.041599</td>\n    </tr>\n    <tr>\n      <th>1</th>\n      <td>-1.996583</td>\n      <td>0.608496</td>\n      <td>0.161176</td>\n      <td>0.109797</td>\n      <td>0.316523</td>\n      <td>0.043483</td>\n      <td>-0.061820</td>\n      <td>-0.063700</td>\n      <td>0.071253</td>\n      <td>-0.232494</td>\n      <td>...</td>\n      <td>-0.307377</td>\n      <td>-0.880077</td>\n      <td>0.162201</td>\n      <td>-0.561131</td>\n      <td>0.320694</td>\n      <td>0.261069</td>\n      <td>-0.022256</td>\n      <td>0.044608</td>\n      <td>-0.342475</td>\n      <td>-0.041599</td>\n    </tr>\n    <tr>\n      <th>2</th>\n      <td>-1.996562</td>\n      <td>-0.693500</td>\n      <td>-0.811578</td>\n      <td>1.169468</td>\n      <td>0.268231</td>\n      <td>-0.364572</td>\n      <td>1.351454</td>\n      <td>0.639776</td>\n      <td>0.207373</td>\n      <td>-1.378675</td>\n      <td>...</td>\n      <td>0.337632</td>\n      <td>1.063358</td>\n      <td>1.456320</td>\n      <td>-1.138092</td>\n      <td>-0.628537</td>\n      <td>-0.288447</td>\n      <td>-0.137137</td>\n      <td>-0.181021</td>\n      <td>1.160686</td>\n      <td>-0.041599</td>\n    </tr>\n    <tr>\n      <th>3</th>\n      <td>-1.996562</td>\n      <td>-0.493325</td>\n      <td>-0.112169</td>\n      <td>1.182516</td>\n      <td>-0.609727</td>\n      <td>-0.007469</td>\n      <td>0.936150</td>\n      <td>0.192071</td>\n      <td>0.316018</td>\n      <td>-1.262503</td>\n      <td>...</td>\n      <td>-0.147443</td>\n      <td>0.007267</td>\n      <td>-0.304777</td>\n      <td>-1.941027</td>\n      <td>1.241904</td>\n      <td>-0.460217</td>\n      <td>0.155396</td>\n      <td>0.186189</td>\n      <td>0.140534</td>\n      <td>-0.041599</td>\n    </tr>\n    <tr>\n      <th>4</th>\n      <td>-1.996541</td>\n      <td>-0.591330</td>\n      <td>0.531541</td>\n      <td>1.021412</td>\n      <td>0.284655</td>\n      <td>-0.295015</td>\n      <td>0.071999</td>\n      <td>0.479302</td>\n      <td>-0.226510</td>\n      <td>0.744326</td>\n      <td>...</td>\n      <td>-0.012839</td>\n      <td>1.100011</td>\n      <td>-0.220123</td>\n      <td>0.233250</td>\n      <td>-0.395202</td>\n      <td>1.041611</td>\n      <td>0.543620</td>\n      <td>0.651816</td>\n      <td>-0.073403</td>\n      <td>-0.041599</td>\n    </tr>\n  </tbody>\n</table>\n<p>5 rows × 31 columns</p>\n</div>"
     },
     "execution_count": 7,
     "metadata": {},
     "output_type": "execute_result"
    }
   ],
   "source": [
    "df.head()"
   ]
  },
  {
   "cell_type": "code",
   "execution_count": null,
   "metadata": {
    "pycharm": {
     "is_executing": true
    }
   },
   "outputs": [],
   "source": [
    "df = perform_hierarchical_clustering(df, n_clusters=5)\n",
    "print(df)"
   ]
  },
  {
   "cell_type": "code",
   "execution_count": 9,
   "metadata": {},
   "outputs": [
    {
     "name": "stdout",
     "output_type": "stream",
     "text": [
      "0.5476242034629109\n"
     ]
    }
   ],
   "source": [
    "# Calculate the silhouette score\n",
    "score = silhouette_score(df, df['cluster2'])\n",
    "print(score)"
   ]
  },
  {
   "cell_type": "code",
   "execution_count": 10,
   "metadata": {},
   "outputs": [],
   "source": [
    "class AgglomerativeClustering1:\n",
    "    def __init__(self, n_clusters):\n",
    "        self.n_clusters = n_clusters\n",
    "    \n",
    "    def fit_predict(self, X):\n",
    "        n_samples, _ = X.shape\n",
    "        distances = self._calculate_distance_matrix(X)\n",
    "        cluster_assignments = np.arange(n_samples)\n",
    "        current_cluster_count = n_samples\n",
    "        \n",
    "        while current_cluster_count > self.n_clusters:\n",
    "            min_distance = np.inf\n",
    "            min_i, min_j = None, None\n",
    "            for i in range(n_samples):\n",
    "                for j in range(i+1, n_samples):\n",
    "                    if cluster_assignments[i] != cluster_assignments[j] and distances[i, j] < min_distance:\n",
    "                        min_distance = distances[i, j]\n",
    "                        min_i, min_j = i, j\n",
    "            cluster_assignments[cluster_assignments == cluster_assignments[min_j]] = cluster_assignments[min_i]\n",
    "            current_cluster_count -= 1\n",
    "        \n",
    "        return cluster_assignments\n",
    "    \n",
    "    def _calculate_distance_matrix(self, X):\n",
    "        n_samples = X.shape[0]\n",
    "        distances = np.zeros((n_samples, n_samples))\n",
    "        for i in range(n_samples):\n",
    "            for j in range(i+1, n_samples):\n",
    "                distances[i, j] = np.linalg.norm(X[i] - X[j])\n",
    "                distances[j, i] = distances[i, j]\n",
    "        return distances\n"
   ]
  },
  {
   "cell_type": "code",
   "execution_count": 11,
   "metadata": {},
   "outputs": [],
   "source": [
    "def perform_hierarchical_clustering_self(df, n_clusters):\n",
    "    # Reset the index of the dataframe\n",
    "    df = df.reset_index(drop=True)\n",
    "    # Perform hierarchical clustering\n",
    "    model = AgglomerativeClustering1(n_clusters=n_clusters)\n",
    "    df[\"cluster3\"] = model.fit_predict(df.values)\n",
    "    return df"
   ]
  },
  {
   "cell_type": "code",
   "execution_count": 12,
   "metadata": {},
   "outputs": [
    {
     "data": {
      "text/html": [
       "<div>\n",
       "<style scoped>\n",
       "    .dataframe tbody tr th:only-of-type {\n",
       "        vertical-align: middle;\n",
       "    }\n",
       "\n",
       "    .dataframe tbody tr th {\n",
       "        vertical-align: top;\n",
       "    }\n",
       "\n",
       "    .dataframe thead th {\n",
       "        text-align: right;\n",
       "    }\n",
       "</style>\n",
       "<table border=\"1\" class=\"dataframe\">\n",
       "  <thead>\n",
       "    <tr style=\"text-align: right;\">\n",
       "      <th></th>\n",
       "      <th>Gender</th>\n",
       "      <th>Age</th>\n",
       "      <th>Annual_Income</th>\n",
       "      <th>Spending_Score</th>\n",
       "      <th>cluster</th>\n",
       "      <th>cluster2</th>\n",
       "      <th>cluster3</th>\n",
       "    </tr>\n",
       "  </thead>\n",
       "  <tbody>\n",
       "    <tr>\n",
       "      <th>0</th>\n",
       "      <td>1</td>\n",
       "      <td>-1.424569</td>\n",
       "      <td>-1.738999</td>\n",
       "      <td>-0.434801</td>\n",
       "      <td>3</td>\n",
       "      <td>0</td>\n",
       "      <td>0</td>\n",
       "    </tr>\n",
       "    <tr>\n",
       "      <th>1</th>\n",
       "      <td>1</td>\n",
       "      <td>-1.281035</td>\n",
       "      <td>-1.738999</td>\n",
       "      <td>1.195704</td>\n",
       "      <td>4</td>\n",
       "      <td>3</td>\n",
       "      <td>7</td>\n",
       "    </tr>\n",
       "    <tr>\n",
       "      <th>2</th>\n",
       "      <td>0</td>\n",
       "      <td>-1.352802</td>\n",
       "      <td>-1.700830</td>\n",
       "      <td>-1.715913</td>\n",
       "      <td>3</td>\n",
       "      <td>0</td>\n",
       "      <td>0</td>\n",
       "    </tr>\n",
       "    <tr>\n",
       "      <th>3</th>\n",
       "      <td>0</td>\n",
       "      <td>-1.137502</td>\n",
       "      <td>-1.700830</td>\n",
       "      <td>1.040418</td>\n",
       "      <td>4</td>\n",
       "      <td>3</td>\n",
       "      <td>7</td>\n",
       "    </tr>\n",
       "    <tr>\n",
       "      <th>4</th>\n",
       "      <td>0</td>\n",
       "      <td>-0.563369</td>\n",
       "      <td>-1.662660</td>\n",
       "      <td>-0.395980</td>\n",
       "      <td>3</td>\n",
       "      <td>0</td>\n",
       "      <td>0</td>\n",
       "    </tr>\n",
       "  </tbody>\n",
       "</table>\n",
       "</div>"
      ],
      "text/plain": [
       "   Gender       Age  Annual_Income  Spending_Score  cluster  cluster2  \\\n",
       "0       1 -1.424569      -1.738999       -0.434801        3         0   \n",
       "1       1 -1.281035      -1.738999        1.195704        4         3   \n",
       "2       0 -1.352802      -1.700830       -1.715913        3         0   \n",
       "3       0 -1.137502      -1.700830        1.040418        4         3   \n",
       "4       0 -0.563369      -1.662660       -0.395980        3         0   \n",
       "\n",
       "   cluster3  \n",
       "0         0  \n",
       "1         7  \n",
       "2         0  \n",
       "3         7  \n",
       "4         0  "
      ]
     },
     "execution_count": 12,
     "metadata": {},
     "output_type": "execute_result"
    }
   ],
   "source": [
    "df_new = perform_hierarchical_clustering_self(df, n_clusters=5)\n",
    "df_new = pd.DataFrame(df_new)\n",
    "df_new.head()"
   ]
  },
  {
   "cell_type": "code",
   "execution_count": 14,
   "metadata": {},
   "outputs": [
    {
     "data": {
      "text/plain": [
       "0.7497501015197205"
      ]
     },
     "execution_count": 14,
     "metadata": {},
     "output_type": "execute_result"
    }
   ],
   "source": [
    "#silouette score\n",
    "silhouette_score(df_new, df_new['cluster3'])"
   ]
  },
  {
   "cell_type": "code",
   "execution_count": 101,
   "metadata": {},
   "outputs": [],
   "source": [
    "from collections import deque\n",
    "\n",
    "class AgglomerativeClustering3:\n",
    "    def __init__(self, n_clusters, distance_metric='euclidean'):\n",
    "        self.n_clusters = n_clusters\n",
    "        self.distance_metric = distance_metric\n",
    "        \n",
    "    def fit_predict(self, X):\n",
    "        n_samples, _ = X.shape\n",
    "        \n",
    "        # Check if number of desired clusters is greater than number of samples\n",
    "        if self.n_clusters > n_samples:\n",
    "            raise ValueError(\"Number of desired clusters cannot be greater than number of samples\")\n",
    "        \n",
    "        # Check if there are NaN values in the input\n",
    "        if np.isnan(X).any():\n",
    "            raise ValueError(\"Input contains NaN values\")\n",
    "        \n",
    "        # Check if there are identical samples in the input\n",
    "        unique_rows, unique_indices = np.unique(X, return_index=True, axis=0)\n",
    "        if unique_rows.shape[0] != X.shape[0]:\n",
    "            raise ValueError(\"Input contains identical samples\")\n",
    "        \n",
    "        distances = self._calculate_distance_matrix(X)\n",
    "        nearest_neighbors = self._calculate_nearest_neighbors(distances)\n",
    "        cluster_assignments = np.arange(n_samples)\n",
    "        current_cluster_count = n_samples\n",
    "        \n",
    "        while current_cluster_count > self.n_clusters:\n",
    "            min_distance = np.inf\n",
    "            min_i, min_j = None, None\n",
    "            for i in range(n_samples):\n",
    "                j = nearest_neighbors[i][0]\n",
    "                if cluster_assignments[i] != cluster_assignments[j] and distances[i, j] < min_distance:\n",
    "                    min_distance = distances[i, j]\n",
    "                    min_i, min_j = i, j\n",
    "            \n",
    "            cluster_assignments[cluster_assignments == cluster_assignments[min_j]] = cluster_assignments[min_i]\n",
    "            current_cluster_count -= 1\n",
    "            nearest_neighbors[min_i].extend(nearest_neighbors[min_j])\n",
    "            nearest_neighbors.pop(min_j)\n",
    "            self._update_nearest_neighbors(nearest_neighbors, min_i, distances)\n",
    "        \n",
    "        return cluster_assignments\n",
    "    \n",
    "    def _calculate_distance_matrix(self, X):\n",
    "        n_samples = X.shape[0]\n",
    "        distances = np.zeros((n_samples, n_samples))\n",
    "        for i in range(n_samples):\n",
    "            for j in range(i+1, n_samples):\n",
    "                distances[i, j] = np.linalg.norm(X[i] - X[j])\n",
    "                distances[j, i] = distances[i, j]\n",
    "        return distances\n",
    "\n",
    "    def _update_nearest_neighbors(self, nearest_neighbors, min_i, distances):\n",
    "        n_samples = distances.shape[0]\n",
    "        for j in range(n_samples):\n",
    "            if min_i == j:\n",
    "                continue\n",
    "            if j in nearest_neighbors[min_i]:\n",
    "                nearest_neighbors[min_i].remove(j)\n",
    "            if distances[min_i, j] < distances[j, nearest_neighbors[j][0]]:\n",
    "                nearest_neighbors[j][0] = min_i\n",
    "            else:\n",
    "                nearest_neighbors[j].append(min_i)\n",
    "\n",
    "\n",
    "    def _calculate_nearest_neighbors(self, distances):\n",
    "        n_samples = distances.shape[0]\n",
    "        nearest_neighbors = [deque([j for j in range(n_samples) if j != i]) for i in range(n_samples)]\n",
    "        for i in range(n_samples):\n",
    "            nearest_neighbors[i] = deque(sorted(nearest_neighbors[i], key=lambda j: distances[i, j]))\n",
    "        return nearest_neighbors\n"
   ]
  },
  {
   "cell_type": "code",
   "execution_count": 106,
   "metadata": {},
   "outputs": [],
   "source": [
    "def perform_hierarchical_clustering_self_deque(df, n_clusters):\n",
    "    # Reset the index of the dataframe\n",
    "    df = df.reset_index(drop=True)\n",
    "    # Perform hierarchical clustering\n",
    "    model = AgglomerativeClustering1(n_clusters=n_clusters)\n",
    "    df[\"cluster4\"] = model.fit_predict(df.values)\n",
    "    return df"
   ]
  },
  {
   "cell_type": "code",
   "execution_count": 109,
   "metadata": {},
   "outputs": [
    {
     "data": {
      "text/html": [
       "<div>\n",
       "<style scoped>\n",
       "    .dataframe tbody tr th:only-of-type {\n",
       "        vertical-align: middle;\n",
       "    }\n",
       "\n",
       "    .dataframe tbody tr th {\n",
       "        vertical-align: top;\n",
       "    }\n",
       "\n",
       "    .dataframe thead th {\n",
       "        text-align: right;\n",
       "    }\n",
       "</style>\n",
       "<table border=\"1\" class=\"dataframe\">\n",
       "  <thead>\n",
       "    <tr style=\"text-align: right;\">\n",
       "      <th></th>\n",
       "      <th>Gender</th>\n",
       "      <th>Age</th>\n",
       "      <th>Annual_Income</th>\n",
       "      <th>Spending_Score</th>\n",
       "      <th>cluster</th>\n",
       "      <th>cluster2</th>\n",
       "      <th>cluster3</th>\n",
       "      <th>cluster4</th>\n",
       "    </tr>\n",
       "  </thead>\n",
       "  <tbody>\n",
       "    <tr>\n",
       "      <th>0</th>\n",
       "      <td>1</td>\n",
       "      <td>-1.424569</td>\n",
       "      <td>-1.738999</td>\n",
       "      <td>-0.434801</td>\n",
       "      <td>3</td>\n",
       "      <td>0</td>\n",
       "      <td>0</td>\n",
       "      <td>0</td>\n",
       "    </tr>\n",
       "    <tr>\n",
       "      <th>1</th>\n",
       "      <td>1</td>\n",
       "      <td>-1.281035</td>\n",
       "      <td>-1.738999</td>\n",
       "      <td>1.195704</td>\n",
       "      <td>4</td>\n",
       "      <td>4</td>\n",
       "      <td>7</td>\n",
       "      <td>7</td>\n",
       "    </tr>\n",
       "    <tr>\n",
       "      <th>2</th>\n",
       "      <td>0</td>\n",
       "      <td>-1.352802</td>\n",
       "      <td>-1.700830</td>\n",
       "      <td>-1.715913</td>\n",
       "      <td>3</td>\n",
       "      <td>0</td>\n",
       "      <td>0</td>\n",
       "      <td>0</td>\n",
       "    </tr>\n",
       "    <tr>\n",
       "      <th>3</th>\n",
       "      <td>0</td>\n",
       "      <td>-1.137502</td>\n",
       "      <td>-1.700830</td>\n",
       "      <td>1.040418</td>\n",
       "      <td>4</td>\n",
       "      <td>4</td>\n",
       "      <td>7</td>\n",
       "      <td>7</td>\n",
       "    </tr>\n",
       "    <tr>\n",
       "      <th>4</th>\n",
       "      <td>0</td>\n",
       "      <td>-0.563369</td>\n",
       "      <td>-1.662660</td>\n",
       "      <td>-0.395980</td>\n",
       "      <td>3</td>\n",
       "      <td>0</td>\n",
       "      <td>0</td>\n",
       "      <td>0</td>\n",
       "    </tr>\n",
       "  </tbody>\n",
       "</table>\n",
       "</div>"
      ],
      "text/plain": [
       "   Gender       Age  Annual_Income  Spending_Score  cluster  cluster2  \\\n",
       "0       1 -1.424569      -1.738999       -0.434801        3         0   \n",
       "1       1 -1.281035      -1.738999        1.195704        4         4   \n",
       "2       0 -1.352802      -1.700830       -1.715913        3         0   \n",
       "3       0 -1.137502      -1.700830        1.040418        4         4   \n",
       "4       0 -0.563369      -1.662660       -0.395980        3         0   \n",
       "\n",
       "   cluster3  cluster4  \n",
       "0         0         0  \n",
       "1         7         7  \n",
       "2         0         0  \n",
       "3         7         7  \n",
       "4         0         0  "
      ]
     },
     "execution_count": 109,
     "metadata": {},
     "output_type": "execute_result"
    }
   ],
   "source": [
    "df_performance = perform_hierarchical_clustering_self_deque(df, n_clusters=5)\n",
    "df_performance = pd.DataFrame(df_performance)\n",
    "df_performance.head()"
   ]
  },
  {
   "cell_type": "code",
   "execution_count": 111,
   "metadata": {
    "pycharm": {
     "name": "#%%\n"
    }
   },
   "outputs": [
    {
     "data": {
      "text/plain": [
       "0.7718081363433258"
      ]
     },
     "execution_count": 111,
     "metadata": {},
     "output_type": "execute_result"
    }
   ],
   "source": [
    "#silouette score\n",
    "silhouette_score(df, df_performance['cluster4'])"
   ]
  }
 ],
 "metadata": {
  "kernelspec": {
   "display_name": "Python 3.9.7 ('base')",
   "language": "python",
   "name": "python3"
  },
  "language_info": {
   "codemirror_mode": {
    "name": "ipython",
    "version": 3
   },
   "file_extension": ".py",
   "mimetype": "text/x-python",
   "name": "python",
   "nbconvert_exporter": "python",
   "pygments_lexer": "ipython3",
   "version": "3.9.7"
  },
  "orig_nbformat": 4,
  "vscode": {
   "interpreter": {
    "hash": "91bb753b057673435fb8d6f6a083e6c818364728098c7ae050ca3a25357dd754"
   }
  }
 },
 "nbformat": 4,
 "nbformat_minor": 2
}