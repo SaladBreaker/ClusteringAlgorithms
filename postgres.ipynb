{
 "cells": [
  {
   "cell_type": "code",
   "execution_count": 1,
   "metadata": {
    "collapsed": true
   },
   "outputs": [],
   "source": [
    "import psycopg2"
   ]
  },
  {
   "cell_type": "code",
   "execution_count": 8,
   "outputs": [
    {
     "ename": "OperationalError",
     "evalue": "connection to server at \"localhost\" (127.0.0.1), port 5432 failed: Connection refused\n\tIs the server running on that host and accepting TCP/IP connections?\nconnection to server at \"localhost\" (::1), port 5432 failed: Connection refused\n\tIs the server running on that host and accepting TCP/IP connections?\n",
     "output_type": "error",
     "traceback": [
      "\u001B[0;31m---------------------------------------------------------------------------\u001B[0m",
      "\u001B[0;31mOperationalError\u001B[0m                          Traceback (most recent call last)",
      "Cell \u001B[0;32mIn[8], line 1\u001B[0m\n\u001B[0;32m----> 1\u001B[0m conn \u001B[38;5;241m=\u001B[39m \u001B[43mpsycopg2\u001B[49m\u001B[38;5;241;43m.\u001B[39;49m\u001B[43mconnect\u001B[49m\u001B[43m(\u001B[49m\u001B[43mdatabase\u001B[49m\u001B[38;5;241;43m=\u001B[39;49m\u001B[38;5;124;43m\"\u001B[39;49m\u001B[38;5;124;43mpostgres\u001B[39;49m\u001B[38;5;124;43m\"\u001B[39;49m\u001B[43m,\u001B[49m\u001B[43m \u001B[49m\u001B[43mhost\u001B[49m\u001B[38;5;241;43m=\u001B[39;49m\u001B[38;5;124;43m\"\u001B[39;49m\u001B[38;5;124;43mlocalhost\u001B[39;49m\u001B[38;5;124;43m\"\u001B[39;49m\u001B[43m,\u001B[49m\u001B[43m \u001B[49m\u001B[43mport\u001B[49m\u001B[38;5;241;43m=\u001B[39;49m\u001B[38;5;124;43m'\u001B[39;49m\u001B[38;5;124;43m5432\u001B[39;49m\u001B[38;5;124;43m'\u001B[39;49m\u001B[43m)\u001B[49m\n\u001B[1;32m      2\u001B[0m conn\u001B[38;5;241m.\u001B[39mautocommit \u001B[38;5;241m=\u001B[39m \u001B[38;5;28;01mTrue\u001B[39;00m\n\u001B[1;32m      3\u001B[0m cursor \u001B[38;5;241m=\u001B[39m conn\u001B[38;5;241m.\u001B[39mcursor()\n",
      "File \u001B[0;32m~/PycharmProjects/CulsteringAlgorithm/venv/lib/python3.11/site-packages/psycopg2/__init__.py:122\u001B[0m, in \u001B[0;36mconnect\u001B[0;34m(dsn, connection_factory, cursor_factory, **kwargs)\u001B[0m\n\u001B[1;32m    119\u001B[0m     kwasync[\u001B[38;5;124m'\u001B[39m\u001B[38;5;124masync_\u001B[39m\u001B[38;5;124m'\u001B[39m] \u001B[38;5;241m=\u001B[39m kwargs\u001B[38;5;241m.\u001B[39mpop(\u001B[38;5;124m'\u001B[39m\u001B[38;5;124masync_\u001B[39m\u001B[38;5;124m'\u001B[39m)\n\u001B[1;32m    121\u001B[0m dsn \u001B[38;5;241m=\u001B[39m _ext\u001B[38;5;241m.\u001B[39mmake_dsn(dsn, \u001B[38;5;241m*\u001B[39m\u001B[38;5;241m*\u001B[39mkwargs)\n\u001B[0;32m--> 122\u001B[0m conn \u001B[38;5;241m=\u001B[39m \u001B[43m_connect\u001B[49m\u001B[43m(\u001B[49m\u001B[43mdsn\u001B[49m\u001B[43m,\u001B[49m\u001B[43m \u001B[49m\u001B[43mconnection_factory\u001B[49m\u001B[38;5;241;43m=\u001B[39;49m\u001B[43mconnection_factory\u001B[49m\u001B[43m,\u001B[49m\u001B[43m \u001B[49m\u001B[38;5;241;43m*\u001B[39;49m\u001B[38;5;241;43m*\u001B[39;49m\u001B[43mkwasync\u001B[49m\u001B[43m)\u001B[49m\n\u001B[1;32m    123\u001B[0m \u001B[38;5;28;01mif\u001B[39;00m cursor_factory \u001B[38;5;129;01mis\u001B[39;00m \u001B[38;5;129;01mnot\u001B[39;00m \u001B[38;5;28;01mNone\u001B[39;00m:\n\u001B[1;32m    124\u001B[0m     conn\u001B[38;5;241m.\u001B[39mcursor_factory \u001B[38;5;241m=\u001B[39m cursor_factory\n",
      "\u001B[0;31mOperationalError\u001B[0m: connection to server at \"localhost\" (127.0.0.1), port 5432 failed: Connection refused\n\tIs the server running on that host and accepting TCP/IP connections?\nconnection to server at \"localhost\" (::1), port 5432 failed: Connection refused\n\tIs the server running on that host and accepting TCP/IP connections?\n"
     ]
    }
   ],
   "source": [
    "conn = psycopg2.connect(database=\"postgres\", host=\"localhost\", port='5432')\n",
    "conn.autocommit = True\n",
    "cursor = conn.cursor()\n",
    "\n",
    "sql = '''CREATE TABLE DETAILS(customer_id int NOT NULL, gender int NOT NULL,\n",
    "age int NOT NULL,\n",
    "annual_income int NOT NULL,\n",
    "spending_score int NOT NULL);'''\n",
    "\n",
    "cursor.execute(sql)"
   ],
   "metadata": {
    "collapsed": false,
    "pycharm": {
     "name": "#%%\n"
    }
   }
  },
  {
   "cell_type": "code",
   "execution_count": 7,
   "outputs": [
    {
     "ename": "NameError",
     "evalue": "name 'cursor' is not defined",
     "output_type": "error",
     "traceback": [
      "\u001B[0;31m---------------------------------------------------------------------------\u001B[0m",
      "\u001B[0;31mNameError\u001B[0m                                 Traceback (most recent call last)",
      "Cell \u001B[0;32mIn[7], line 7\u001B[0m\n\u001B[1;32m      1\u001B[0m sql2 \u001B[38;5;241m=\u001B[39m \u001B[38;5;124m'''\u001B[39m\u001B[38;5;124mCOPY details(CustomerID,Gender,\u001B[39m\n\u001B[1;32m      2\u001B[0m \u001B[38;5;124mAge,Annual_Income, Spending_Score)\u001B[39m\n\u001B[1;32m      3\u001B[0m \u001B[38;5;124mFROM \u001B[39m\u001B[38;5;124m'\u001B[39m\u001B[38;5;124m/segmented_customers.csv\u001B[39m\u001B[38;5;124m'\u001B[39m\n\u001B[1;32m      4\u001B[0m \u001B[38;5;124mDELIMITER \u001B[39m\u001B[38;5;124m'\u001B[39m\u001B[38;5;124m,\u001B[39m\u001B[38;5;124m'\u001B[39m\n\u001B[1;32m      5\u001B[0m \u001B[38;5;124mCSV HEADER;\u001B[39m\u001B[38;5;124m'''\u001B[39m\n\u001B[0;32m----> 7\u001B[0m \u001B[43mcursor\u001B[49m\u001B[38;5;241m.\u001B[39mexecute(sql2)\n\u001B[1;32m      9\u001B[0m sql3 \u001B[38;5;241m=\u001B[39m \u001B[38;5;124m'''\u001B[39m\u001B[38;5;124mselect * from details;\u001B[39m\u001B[38;5;124m'''\u001B[39m\n\u001B[1;32m     10\u001B[0m cursor\u001B[38;5;241m.\u001B[39mexecute(sql3)\n",
      "\u001B[0;31mNameError\u001B[0m: name 'cursor' is not defined"
     ]
    }
   ],
   "source": [
    "sql2 = '''COPY details(CustomerID,Gender,\n",
    "Age,Annual_Income, Spending_Score)\n",
    "FROM '/segmented_customers.csv'\n",
    "DELIMITER ','\n",
    "CSV HEADER;'''\n",
    "\n",
    "cursor.execute(sql2)\n",
    "\n",
    "sql3 = '''select * from details;'''\n",
    "cursor.execute(sql3)\n",
    "for i in cursor.fetchall():\n",
    "    print(i)\n",
    "\n",
    "conn.commit()\n",
    "conn.close()"
   ],
   "metadata": {
    "collapsed": false,
    "pycharm": {
     "name": "#%%\n"
    }
   }
  },
  {
   "cell_type": "code",
   "execution_count": null,
   "outputs": [],
   "source": [],
   "metadata": {
    "collapsed": false,
    "pycharm": {
     "name": "#%%\n"
    }
   }
  }
 ],
 "metadata": {
  "kernelspec": {
   "display_name": "Python 3",
   "language": "python",
   "name": "python3"
  },
  "language_info": {
   "codemirror_mode": {
    "name": "ipython",
    "version": 2
   },
   "file_extension": ".py",
   "mimetype": "text/x-python",
   "name": "python",
   "nbconvert_exporter": "python",
   "pygments_lexer": "ipython2",
   "version": "2.7.6"
  }
 },
 "nbformat": 4,
 "nbformat_minor": 0
}